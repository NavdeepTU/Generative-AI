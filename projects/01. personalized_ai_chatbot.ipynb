{
 "cells": [
  {
   "cell_type": "code",
   "execution_count": 1,
   "metadata": {},
   "outputs": [
    {
     "name": "stderr",
     "output_type": "stream",
     "text": [
      "/Users/navdeep/Desktop/Data Analysis/venv/lib/python3.12/site-packages/tqdm/auto.py:21: TqdmWarning: IProgress not found. Please update jupyter and ipywidgets. See https://ipywidgets.readthedocs.io/en/stable/user_install.html\n",
      "  from .autonotebook import tqdm as notebook_tqdm\n"
     ]
    }
   ],
   "source": [
    "from transformers import AutoModelForCausalLM, AutoTokenizer\n",
    "import torch"
   ]
  },
  {
   "cell_type": "code",
   "execution_count": 10,
   "metadata": {},
   "outputs": [],
   "source": [
    "def chat_with_ai():\n",
    "    # load the pretrained model and tokenizer\n",
    "    model_name = \"microsoft/DialoGPT-medium\"\n",
    "    tokenizer = AutoTokenizer.from_pretrained(model_name)\n",
    "    model = AutoModelForCausalLM.from_pretrained(model_name)\n",
    "\n",
    "    print(\"🤖: Hi! I'm your ai assistant. Type 'exit' to quit.\\n\")\n",
    "\n",
    "    chat_history = torch.tensor([])\n",
    "    while True:\n",
    "        user_input = input(\"You: \")\n",
    "\n",
    "        if user_input.lower() == \"exit\":\n",
    "            print(\"🤖: Goodbye! Have a great day!\")\n",
    "            break\n",
    "\n",
    "        # encode user input and past conversation\n",
    "        inputs = tokenizer.encode(user_input, return_tensors=\"pt\")\n",
    "        chat_history_ids = (\n",
    "            torch.cat([chat_history, inputs], dim=-1) if chat_history.numel() > 0 else inputs\n",
    "        )\n",
    "\n",
    "        # generate a response\n",
    "        response_ids = model.generate(\n",
    "            chat_history_ids,\n",
    "            max_length=1000,\n",
    "            pad_token_id=tokenizer.eos_token_id,\n",
    "            top_k=50,\n",
    "            top_p=0.95,\n",
    "            temperature=0.7\n",
    "        )\n",
    "\n",
    "        response = tokenizer.decode(\n",
    "            response_ids[:, chat_history_ids.shape[-1]:][0], skip_special_tokens=True\n",
    "        )\n",
    "\n",
    "        print(f\"🤖: {response}\")\n",
    "\n",
    "        # update chat history\n",
    "        chat_history = response_ids"
   ]
  },
  {
   "cell_type": "code",
   "execution_count": 11,
   "metadata": {},
   "outputs": [
    {
     "name": "stdout",
     "output_type": "stream",
     "text": [
      "🤖: Hi! I'm your ai assistant. Type 'exit' to quit.\n",
      "\n"
     ]
    },
    {
     "name": "stderr",
     "output_type": "stream",
     "text": [
      "/Users/navdeep/Desktop/Data Analysis/venv/lib/python3.12/site-packages/transformers/generation/configuration_utils.py:590: UserWarning: `do_sample` is set to `False`. However, `temperature` is set to `0.7` -- this flag is only used in sample-based generation modes. You should set `do_sample=True` or unset `temperature`.\n",
      "  warnings.warn(\n",
      "/Users/navdeep/Desktop/Data Analysis/venv/lib/python3.12/site-packages/transformers/generation/configuration_utils.py:595: UserWarning: `do_sample` is set to `False`. However, `top_p` is set to `0.95` -- this flag is only used in sample-based generation modes. You should set `do_sample=True` or unset `top_p`.\n",
      "  warnings.warn(\n"
     ]
    },
    {
     "name": "stdout",
     "output_type": "stream",
     "text": [
      "🤖: , I'm not sure if you're serious.\n",
      "🤖:  and I am a human being.\n",
      "🤖: , i was thinking of a different human being\n",
      "🤖:  to humans\n",
      "🤖: ?\n",
      "🤖: ?\n",
      "🤖: \n",
      "🤖: , my name is Navdeep and i am a human being\n",
      "🤖: Goodbye! Have a great day!\n"
     ]
    }
   ],
   "source": [
    "chat_with_ai()"
   ]
  },
  {
   "cell_type": "code",
   "execution_count": null,
   "metadata": {},
   "outputs": [],
   "source": []
  }
 ],
 "metadata": {
  "kernelspec": {
   "display_name": "Python 3",
   "language": "python",
   "name": "python3"
  },
  "language_info": {
   "codemirror_mode": {
    "name": "ipython",
    "version": 3
   },
   "file_extension": ".py",
   "mimetype": "text/x-python",
   "name": "python",
   "nbconvert_exporter": "python",
   "pygments_lexer": "ipython3",
   "version": "3.12.0"
  }
 },
 "nbformat": 4,
 "nbformat_minor": 2
}
