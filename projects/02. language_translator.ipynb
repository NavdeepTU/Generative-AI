{
 "cells": [
  {
   "cell_type": "code",
   "execution_count": 3,
   "metadata": {},
   "outputs": [],
   "source": [
    "from translate import Translator"
   ]
  },
  {
   "cell_type": "code",
   "execution_count": 2,
   "metadata": {},
   "outputs": [],
   "source": [
    "def display_menu():\n",
    "    print(\"\\nWelcome to the simple language translator\")\n",
    "    print(\"1. Translate text\")\n",
    "    print(\"2. Exit\")\n",
    "    choice = input(\"Please select an option (1-2): \")\n",
    "    return choice"
   ]
  },
  {
   "cell_type": "code",
   "execution_count": 4,
   "metadata": {},
   "outputs": [],
   "source": [
    "# function to translate text\n",
    "def translate_text():\n",
    "    text = input(\"Enter the text you want to translate: \")\n",
    "    from_lang = input(\"Enter the source language (e.g., en for English, pa for Punjabi, hi for Hindi, ta for Tamil, kn for Kannada): \")\n",
    "    to_lang = input(\"Enter the target language (e.g., en for English, pa for Punjabi, hi for Hindi, ta for Tamil, kn for Kannada): \")\n",
    "\n",
    "    try:\n",
    "        # Create a translator object\n",
    "        translator = Translator(to_lang=to_lang, from_lang=from_lang)\n",
    "\n",
    "        # Translate the text\n",
    "        translation = translator.translate(text)\n",
    "\n",
    "        # Print the translation\n",
    "        print(f\"Translation: {translation}\")\n",
    "    except Exception as ex:\n",
    "        print(f\"An error occured: {e}\")"
   ]
  },
  {
   "cell_type": "code",
   "execution_count": 5,
   "metadata": {},
   "outputs": [],
   "source": [
    "# Main function to run the language translator\n",
    "def run_language_translator():\n",
    "    while True:\n",
    "        choice = display_menu()\n",
    "        if choice == '1':\n",
    "            translate_text()\n",
    "        elif choice == '2':\n",
    "            print(\"Thank you for using the simple language translator. Goodbye!\")\n",
    "            break\n",
    "        else:\n",
    "            print(\"Invalid choice. Please select a valid option (1-2).\")"
   ]
  },
  {
   "cell_type": "code",
   "execution_count": 6,
   "metadata": {},
   "outputs": [
    {
     "name": "stdout",
     "output_type": "stream",
     "text": [
      "\n",
      "Welcome to the simple language translator\n",
      "1. Translate text\n",
      "2. Exit\n",
      "Translation: 1\n",
      "\n",
      "Welcome to the simple language translator\n",
      "1. Translate text\n",
      "2. Exit\n",
      "Translation: ਮੇਰਾ ਨਾਮ ਨਵਦੀਪ ਹੈ\n",
      "\n",
      "Welcome to the simple language translator\n",
      "1. Translate text\n",
      "2. Exit\n",
      "Translation: यह एप्लिकेशन के कामकाज का परीक्षण करने के लिए एक परीक्षण संदेश है।\n",
      "\n",
      "Welcome to the simple language translator\n",
      "1. Translate text\n",
      "2. Exit\n",
      "Invalid choice. Please select a valid option (1-2).\n",
      "\n",
      "Welcome to the simple language translator\n",
      "1. Translate text\n",
      "2. Exit\n",
      "Thank you for using the simple language translator. Goodbye!\n"
     ]
    }
   ],
   "source": [
    "run_language_translator()"
   ]
  },
  {
   "cell_type": "code",
   "execution_count": null,
   "metadata": {},
   "outputs": [],
   "source": []
  }
 ],
 "metadata": {
  "kernelspec": {
   "display_name": "Python 3",
   "language": "python",
   "name": "python3"
  },
  "language_info": {
   "codemirror_mode": {
    "name": "ipython",
    "version": 3
   },
   "file_extension": ".py",
   "mimetype": "text/x-python",
   "name": "python",
   "nbconvert_exporter": "python",
   "pygments_lexer": "ipython3",
   "version": "3.12.0"
  }
 },
 "nbformat": 4,
 "nbformat_minor": 2
}
