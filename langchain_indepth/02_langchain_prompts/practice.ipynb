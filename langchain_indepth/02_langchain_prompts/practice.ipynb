{
 "cells": [
  {
   "cell_type": "code",
   "execution_count": 1,
   "metadata": {},
   "outputs": [],
   "source": [
    "from langchain_core.prompts import PromptTemplate"
   ]
  },
  {
   "cell_type": "code",
   "execution_count": 8,
   "metadata": {},
   "outputs": [
    {
     "name": "stdout",
     "output_type": "stream",
     "text": [
      "What is AI?\n"
     ]
    }
   ],
   "source": [
    "template = PromptTemplate(\n",
    "    template=\"What is {topic}?\",\n",
    "    input_variables=[\"topic\"]\n",
    ")\n",
    "\n",
    "prompt = template.invoke({\"topic\": \"AI\"})\n",
    "\n",
    "print(prompt.text)"
   ]
  },
  {
   "cell_type": "code",
   "execution_count": 9,
   "metadata": {},
   "outputs": [
    {
     "name": "stdout",
     "output_type": "stream",
     "text": [
      "Langchain is a blockchain-based platform that aims to facilitate language learning and teaching through its innovative features. Users on Langchain can participate in various language-related activities, such as language exchange, tutoring sessions, and interactive learning modules.\n",
      "\n",
      "One of the key features of Langchain is its use of blockchain technology to ensure secure and transparent transactions between users. This can be particularly beneficial for language tutors and learners who may be wary of fraudulent activities or unreliable services.\n",
      "\n",
      "Overall, Langchain offers a modern and effective way for individuals to improve their language skills, connect with others from different cultures, and expand their knowledge in a fun and interactive manner.\n"
     ]
    }
   ],
   "source": [
    "from langchain_core.messages import SystemMessage, HumanMessage, AIMessage\n",
    "from langchain_openai import ChatOpenAI\n",
    "from dotenv import load_dotenv\n",
    "\n",
    "load_dotenv()\n",
    "\n",
    "messages = [\n",
    "    SystemMessage(content=\"You are a helpful assistant.\"),\n",
    "    HumanMessage(content=\"Tell me about langchain.\")\n",
    "]\n",
    "\n",
    "model = ChatOpenAI()\n",
    "\n",
    "result = model.invoke(messages)\n",
    "\n",
    "print(result.content)"
   ]
  },
  {
   "cell_type": "code",
   "execution_count": 10,
   "metadata": {},
   "outputs": [
    {
     "name": "stdout",
     "output_type": "stream",
     "text": [
      "If you have any more specific questions about Langchain or would like more information, feel free to ask!\n"
     ]
    }
   ],
   "source": [
    "messages.append(AIMessage(content=result.content))\n",
    "\n",
    "result_new = model.invoke(messages)\n",
    "\n",
    "print(result_new.content)"
   ]
  },
  {
   "cell_type": "code",
   "execution_count": 11,
   "metadata": {},
   "outputs": [
    {
     "name": "stdout",
     "output_type": "stream",
     "text": [
      "messages=[SystemMessage(content='You are a helpful medical expert', additional_kwargs={}, response_metadata={}), HumanMessage(content='Explain in simple terms what is cataract', additional_kwargs={}, response_metadata={})]\n"
     ]
    }
   ],
   "source": [
    "from langchain_core.prompts import ChatPromptTemplate\n",
    "\n",
    "chat_template = ChatPromptTemplate([\n",
    "    (\"system\", \"You are a helpful {domain} expert\"),\n",
    "    (\"human\", \"Explain in simple terms what is {topic}\")\n",
    "])\n",
    "\n",
    "prompt = chat_template.invoke({\n",
    "    \"domain\": \"medical\",\n",
    "    \"topic\": \"cataract\"\n",
    "})\n",
    "\n",
    "print(prompt)"
   ]
  },
  {
   "cell_type": "code",
   "execution_count": 12,
   "metadata": {},
   "outputs": [
    {
     "name": "stdout",
     "output_type": "stream",
     "text": [
      "As of September 2021, Virat Kohli has played over 90 Tests, over 250 One Day Internationals (ODIs), and over 90 Twenty20 Internationals (T20Is) for India.\n"
     ]
    }
   ],
   "source": [
    "from langchain_core.prompts import MessagesPlaceholder\n",
    "\n",
    "chat_template = ChatPromptTemplate([\n",
    "    (\"system\", \"You are a helpful {domain} expert.\"),\n",
    "    MessagesPlaceholder(variable_name=\"chat_history\"),\n",
    "    (\"human\", \"How many matches has he played till now ?\")\n",
    "])\n",
    "\n",
    "chat_history = [\n",
    "    HumanMessage(content=\"For which team does Virat Kohli plays?\"),\n",
    "    AIMessage(content=\"Virat Kohli plays for India.\")\n",
    "]\n",
    "\n",
    "model = ChatOpenAI()\n",
    "\n",
    "prompt = chat_template.invoke({\n",
    "    \"domain\": \"cricket\",\n",
    "    \"chat_history\": chat_history\n",
    "})\n",
    "\n",
    "result = model.invoke(prompt)\n",
    "\n",
    "print(result.content)"
   ]
  },
  {
   "cell_type": "code",
   "execution_count": null,
   "metadata": {},
   "outputs": [],
   "source": []
  }
 ],
 "metadata": {
  "kernelspec": {
   "display_name": "venv",
   "language": "python",
   "name": "python3"
  },
  "language_info": {
   "codemirror_mode": {
    "name": "ipython",
    "version": 3
   },
   "file_extension": ".py",
   "mimetype": "text/x-python",
   "name": "python",
   "nbconvert_exporter": "python",
   "pygments_lexer": "ipython3",
   "version": "3.12.0"
  }
 },
 "nbformat": 4,
 "nbformat_minor": 2
}
