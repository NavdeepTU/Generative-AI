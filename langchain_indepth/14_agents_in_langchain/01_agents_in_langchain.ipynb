{
 "cells": [
  {
   "cell_type": "code",
   "execution_count": 16,
   "metadata": {},
   "outputs": [],
   "source": [
    "from dotenv import load_dotenv\n",
    "load_dotenv()\n",
    "\n",
    "from langchain_openai import ChatOpenAI\n",
    "from langchain_core.tools import tool\n",
    "import requests"
   ]
  },
  {
   "cell_type": "code",
   "execution_count": 17,
   "metadata": {},
   "outputs": [],
   "source": [
    "from langchain_community.tools import DuckDuckGoSearchRun\n",
    "\n",
    "search_tool = DuckDuckGoSearchRun()\n",
    "\n",
    "results = search_tool.invoke(\"top news in india today ?\")"
   ]
  },
  {
   "cell_type": "code",
   "execution_count": 18,
   "metadata": {},
   "outputs": [
    {
     "data": {
      "text/plain": [
       "\"India News | Latest India News | Read latest and breaking news from India. Today's top India news headlines, news on Indian politics, elections, government, business, technology, and Bollywood. Read all India news and breaking news today from India on politics, business, entertainment, technology, sports, lifestyle and more at CNBC TV18. ... Top India News. Kerala sees earliest onset of Southwest Monsoon in 16 years; advances over Karnataka, Mahe. May 24, 2025 6:36 PM IST. Zee News brings latest news from India and World on breaking news, today news headlines, politics, business, technology, bollywood, entertainment, sports and others. Find exclusive news stories on Indian politics, current affairs, cricket matches, festivals and events Reuters.com is your online source for the latest India news stories and current events, ensuring our readers up to date with any breaking news developments CNN News18 Live TV: Stay informed with CNN News18 Live TV. Watch Live streaming online for breaking news, top headlines, and real-time updates from India and around the world—only on News18.com.\""
      ]
     },
     "execution_count": 18,
     "metadata": {},
     "output_type": "execute_result"
    }
   ],
   "source": [
    "results"
   ]
  },
  {
   "cell_type": "code",
   "execution_count": 19,
   "metadata": {},
   "outputs": [],
   "source": [
    "@tool\n",
    "def get_weather_data(city: str) -> str:\n",
    "  \"\"\"\n",
    "  This function fetches the current weather data for a given city\n",
    "  \"\"\"\n",
    "  url = f'https://api.weatherstack.com/current?access_key=4ad15bb60fcb40e71d31912be476ae11&query={city}'\n",
    "\n",
    "  response = requests.get(url)\n",
    "\n",
    "  return response.json()"
   ]
  },
  {
   "cell_type": "code",
   "execution_count": 20,
   "metadata": {},
   "outputs": [],
   "source": [
    "llm = ChatOpenAI()"
   ]
  },
  {
   "cell_type": "code",
   "execution_count": 21,
   "metadata": {},
   "outputs": [
    {
     "data": {
      "text/plain": [
       "AIMessage(content='Hello! How can I help you today?', additional_kwargs={'refusal': None}, response_metadata={'token_usage': {'completion_tokens': 9, 'prompt_tokens': 8, 'total_tokens': 17, 'completion_tokens_details': {'accepted_prediction_tokens': 0, 'audio_tokens': 0, 'reasoning_tokens': 0, 'rejected_prediction_tokens': 0}, 'prompt_tokens_details': {'audio_tokens': 0, 'cached_tokens': 0}}, 'model_name': 'gpt-3.5-turbo-0125', 'system_fingerprint': None, 'finish_reason': 'stop', 'logprobs': None}, id='run-71e2c81d-d1cc-463f-b41b-c04e856a47e7-0', usage_metadata={'input_tokens': 8, 'output_tokens': 9, 'total_tokens': 17, 'input_token_details': {'audio': 0, 'cache_read': 0}, 'output_token_details': {'audio': 0, 'reasoning': 0}})"
      ]
     },
     "execution_count": 21,
     "metadata": {},
     "output_type": "execute_result"
    }
   ],
   "source": [
    "llm.invoke(\"hi\") # testing"
   ]
  },
  {
   "cell_type": "code",
   "execution_count": 22,
   "metadata": {},
   "outputs": [],
   "source": [
    "# now create agent\n",
    "from langchain.agents import create_react_agent, AgentExecutor\n",
    "from langchain import hub # to import predefined prompts"
   ]
  },
  {
   "cell_type": "code",
   "execution_count": 23,
   "metadata": {},
   "outputs": [],
   "source": [
    "# step 2: pull the react prompt from langchain hub\n",
    "# will be using react(reasoning and action) design pattern \n",
    "# for creating the agent\n",
    "prompt = hub.pull(\"hwchase17/react\") # pulls the standard react agent prompt"
   ]
  },
  {
   "cell_type": "code",
   "execution_count": 24,
   "metadata": {},
   "outputs": [],
   "source": [
    "# step 3: create the react agent manually with the pulled prompt\n",
    "agent = create_react_agent(\n",
    "    llm=llm,\n",
    "    tools=[search_tool, get_weather_data],\n",
    "    prompt=prompt\n",
    ")"
   ]
  },
  {
   "cell_type": "code",
   "execution_count": 25,
   "metadata": {},
   "outputs": [],
   "source": [
    "# step 4: wrap it with agent executor\n",
    "agent_executor = AgentExecutor(\n",
    "    agent=agent,\n",
    "    tools=[search_tool, get_weather_data],\n",
    "    verbose=True\n",
    ")"
   ]
  },
  {
   "cell_type": "code",
   "execution_count": 26,
   "metadata": {},
   "outputs": [
    {
     "name": "stdout",
     "output_type": "stream",
     "text": [
      "\n",
      "\n",
      "\u001b[1m> Entering new AgentExecutor chain...\u001b[0m\n",
      "\u001b[32;1m\u001b[1;3mI should first search for the capital of Madhya Pradesh and then use the get_weather_data function to find its current weather condition.\n",
      "Action: duckduckgo_search\n",
      "Action Input: \"capital of Madhya Pradesh\"\u001b[0m\u001b[36;1m\u001b[1;3mMadhya Pradesh, state of India that is situated in the heart of the country. It has no coastline and no international frontier. Its physiography is characterized by low hills, extensive plateaus, and river valleys. The capital is Bhopal, in the west-central part of the state. Indore (/ ɪ n ˈ d ɔːr / ⓘ; ISO: Indaura, Hindi: [ɪn̪d̪ɔːr]) is the largest and most populous city in the Indian state of Madhya Pradesh. [15] It is the commercial hub of Madhya Pradesh. It is consistently ranked as the cleanest city in India. [16] It serves as the headquarters of both the Indore District and the Indore Division.It is also considered the state education hub and ... However, Madhya Bharat was a temporary entity, and the map of central India was soon to be redrawn. The Creation of Madhya Pradesh. On November 1st, 1956, Madhya Bharat was merged with other princely states to form the state of Madhya Pradesh. This merger necessitated the selection of a new, unified capital. Bhopal. Bhopal is the capital city of Madhya Pradesh, known for its historical significance, lakes, and rich cultural heritage.It serves as the political and administrative hub, housing the Madhya Pradesh Legislative Assembly, Secretariat, and High Court Bench.Bhopal is famously called the \"City of Lakes\" due to its beautiful Upper Lake (Bada Talab) and Lower Lake (Chhota Talab). Indore city is officially known as the Commercial Capital of Madhya Pradesh state. Indore as a modern city is a neat amalgamation of long past history and hopes of speedy modernization future. Modern-day Indore traces its origin to its founding in the 16th century as a trading center connecting Deccan and Delhi. The city was built on the banks ...\u001b[0m\u001b[32;1m\u001b[1;3mNow that I know the capital of Madhya Pradesh is Bhopal, I can use the get_weather_data function to find its current weather condition.\n",
      "Action: get_weather_data\n",
      "Action Input: \"Bhopal\"\u001b[0m\u001b[33;1m\u001b[1;3m{'request': {'type': 'City', 'query': 'Bhopal, India', 'language': 'en', 'unit': 'm'}, 'location': {'name': 'Bhopal', 'country': 'India', 'region': 'Madhya Pradesh', 'lat': '23.267', 'lon': '77.400', 'timezone_id': 'Asia/Kolkata', 'localtime': '2025-05-25 14:19', 'localtime_epoch': 1748182740, 'utc_offset': '5.50'}, 'current': {'observation_time': '08:49 AM', 'temperature': 33, 'weather_code': 116, 'weather_icons': ['https://cdn.worldweatheronline.com/images/wsymbols01_png_64/wsymbol_0002_sunny_intervals.png'], 'weather_descriptions': ['Partly cloudy'], 'astro': {'sunrise': '05:36 AM', 'sunset': '06:59 PM', 'moonrise': '03:41 AM', 'moonset': '05:11 PM', 'moon_phase': 'Waning Crescent', 'moon_illumination': 7}, 'air_quality': {'co': '586.45', 'no2': '7.4', 'o3': '113', 'so2': '22.755', 'pm2_5': '26.27', 'pm10': '32.375', 'us-epa-index': '2', 'gb-defra-index': '2'}, 'wind_speed': 14, 'wind_degree': 61, 'wind_dir': 'ENE', 'pressure': 1004, 'precip': 0, 'humidity': 47, 'cloudcover': 50, 'feelslike': 32, 'uv_index': 7, 'visibility': 6, 'is_day': 'yes'}}\u001b[0m\u001b[32;1m\u001b[1;3mI now know that the capital of Madhya Pradesh is Bhopal and its current weather condition is partly cloudy with a temperature of 33°C.\n",
      "Final Answer: The capital of Madhya Pradesh is Bhopal and its current weather condition is partly cloudy with a temperature of 33°C.\u001b[0m\n",
      "\n",
      "\u001b[1m> Finished chain.\u001b[0m\n",
      "{'input': 'Find the capital of Madhya Pardesh. then find its current weather condition.', 'output': 'The capital of Madhya Pradesh is Bhopal and its current weather condition is partly cloudy with a temperature of 33°C.'}\n"
     ]
    }
   ],
   "source": [
    "# step 5: Invoke\n",
    "response = agent_executor.invoke({\"input\": \"Find the capital of Madhya Pardesh. then find its current weather condition.\"})\n",
    "print(response)"
   ]
  },
  {
   "cell_type": "code",
   "execution_count": 27,
   "metadata": {},
   "outputs": [
    {
     "data": {
      "text/plain": [
       "'The capital of Madhya Pradesh is Bhopal and its current weather condition is partly cloudy with a temperature of 33°C.'"
      ]
     },
     "execution_count": 27,
     "metadata": {},
     "output_type": "execute_result"
    }
   ],
   "source": [
    "response[\"output\"]"
   ]
  },
  {
   "cell_type": "code",
   "execution_count": null,
   "metadata": {},
   "outputs": [],
   "source": []
  }
 ],
 "metadata": {
  "kernelspec": {
   "display_name": "venv",
   "language": "python",
   "name": "python3"
  },
  "language_info": {
   "codemirror_mode": {
    "name": "ipython",
    "version": 3
   },
   "file_extension": ".py",
   "mimetype": "text/x-python",
   "name": "python",
   "nbconvert_exporter": "python",
   "pygments_lexer": "ipython3",
   "version": "3.12.0"
  }
 },
 "nbformat": 4,
 "nbformat_minor": 2
}
