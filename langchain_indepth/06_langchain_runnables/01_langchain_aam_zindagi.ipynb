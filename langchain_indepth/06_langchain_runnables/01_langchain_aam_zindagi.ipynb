{
 "cells": [
  {
   "cell_type": "code",
   "execution_count": 1,
   "metadata": {},
   "outputs": [],
   "source": [
    "import random\n",
    "\n",
    "# first component\n",
    "class NakliLLM:\n",
    "\n",
    "    def __init__(self):\n",
    "        print(\"LLM created\")\n",
    "    \n",
    "    def predict(self, prompt):\n",
    "        response_list = [\n",
    "            \"Delhi is the capital of India.\",\n",
    "            \"IPL is a cricket league.\",\n",
    "            \"AI stands for artificial intelligence\"\n",
    "        ]\n",
    "\n",
    "        return {\"response\": random.choice(response_list)}"
   ]
  },
  {
   "cell_type": "code",
   "execution_count": null,
   "metadata": {},
   "outputs": [],
   "source": [
    "# second component\n",
    "class NakliPromptTemplate:\n",
    "\n",
    "    def __init__(self, template, input_variables):\n",
    "        self.template = template\n",
    "        self.input_variables = input_variables\n",
    "\n",
    "    "
   ]
  }
 ],
 "metadata": {
  "kernelspec": {
   "display_name": "venv",
   "language": "python",
   "name": "python3"
  },
  "language_info": {
   "codemirror_mode": {
    "name": "ipython",
    "version": 3
   },
   "file_extension": ".py",
   "mimetype": "text/x-python",
   "name": "python",
   "nbconvert_exporter": "python",
   "pygments_lexer": "ipython3",
   "version": "3.12.0"
  }
 },
 "nbformat": 4,
 "nbformat_minor": 2
}
