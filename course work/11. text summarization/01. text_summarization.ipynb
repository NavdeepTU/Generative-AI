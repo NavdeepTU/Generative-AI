{
 "cells": [
  {
   "cell_type": "code",
   "execution_count": 33,
   "metadata": {},
   "outputs": [
    {
     "data": {
      "text/plain": [
       "True"
      ]
     },
     "execution_count": 33,
     "metadata": {},
     "output_type": "execute_result"
    }
   ],
   "source": [
    "import os\n",
    "from dotenv import load_dotenv\n",
    "load_dotenv()"
   ]
  },
  {
   "cell_type": "code",
   "execution_count": 34,
   "metadata": {},
   "outputs": [
    {
     "data": {
      "text/plain": [
       "ChatGroq(client=<groq.resources.chat.completions.Completions object at 0x176792cc0>, async_client=<groq.resources.chat.completions.AsyncCompletions object at 0x17678ea80>, model_name='Llama3-8b-8192', model_kwargs={}, groq_api_key=SecretStr('**********'))"
      ]
     },
     "execution_count": 34,
     "metadata": {},
     "output_type": "execute_result"
    }
   ],
   "source": [
    "from langchain_groq import ChatGroq\n",
    "api_key = os.getenv(\"GROQ_API_KEY\")\n",
    "llm = ChatGroq(api_key=api_key, model=\"Llama3-8b-8192\")\n",
    "llm"
   ]
  },
  {
   "cell_type": "code",
   "execution_count": 35,
   "metadata": {},
   "outputs": [],
   "source": [
    "# method - 1 to get summary\n",
    "from langchain.schema import (\n",
    "    AIMessage,\n",
    "    HumanMessage,\n",
    "    SystemMessage\n",
    ")"
   ]
  },
  {
   "cell_type": "code",
   "execution_count": 36,
   "metadata": {},
   "outputs": [],
   "source": [
    "speech=\"\"\"\n",
    "People across the country, involved in government, political, \n",
    "and social activities, are dedicating their time to make the \n",
    "‘Viksit Bharat Sankalp Yatra’ (Developed India Resolution Journey) \n",
    "successful. Therefore, as a Member of Parliament, \n",
    "it was my responsibility to also contribute my time to this program. \n",
    "So, today, I have come here just as a Member of Parliament and your \n",
    "‘sevak’, ready to participate in this program, much like you.\n",
    "In our country, governments have come and gone, numerous schemes have \n",
    "been formulated, discussions have taken place, and big promises have \n",
    "been made. However, my experience and observations led me to believe \n",
    "that the most critical aspect that requires attention is ensuring that \n",
    "the government’s plans reach the intended beneficiaries without any \n",
    "hassles. If there is a ‘Pradhan Mantri Awas Yojana’ (Prime Minister’s \n",
    "housing scheme), then those who are living in jhuggis and slums should \n",
    "get their houses. And he should not need to make rounds of the government \n",
    "offices for this purpose. The government should reach him. Since you have \n",
    "assigned this responsibility to me, about four crore families have got \n",
    "their ‘pucca’ houses. However, I have encountered cases where someone is \n",
    "left out of the government benefits. Therefore, I have decided to tour \n",
    "the country again, to listen to people’s experiences with government \n",
    "schemes, to understand whether they received the intended benefits, \n",
    "and to ensure that the programs are reaching everyone as planned without \n",
    "paying any bribes. We will get the real picture if we visit them again. \n",
    "Therefore, this ‘Viksit Bharat Sankalp Yatra’ is, in a way, my own \n",
    "examination. I want to hear from you and the people across the country \n",
    "whether what I envisioned and the work I have been doing aligns with \n",
    "reality and whether it has reached those for whom it was meant.\n",
    "It is crucial to check whether the work that was supposed to happen has \n",
    "indeed taken place. I recently met some individuals who utilized the \n",
    "Ayushman card to get treatment for serious illnesses. One person met \n",
    "with a severe accident, and after using the card, he could afford the \n",
    "necessary operation, and now he is recovering well. When I asked him, \n",
    "he said: “How could I afford this treatment? Now that there is the \n",
    "Ayushman card, I mustered courage and underwent an operation. Now I \n",
    "am perfectly fine.”  Such stories are blessings to me.\n",
    "The bureaucrats, who prepare good schemes, expedite the paperwork and \n",
    "even allocate funds, also feel satisfied that 50 or 100 people who were \n",
    "supposed to get the funds have got it. The funds meant for a thousand \n",
    "villages have been released. But their job satisfaction peaks when they \n",
    "hear that their work has directly impacted someone’s life positively. \n",
    "When they see the tangible results of their efforts, their enthusiasm \n",
    "multiplies. They feel satisfied. Therefore, ‘Viksit Bharat Sankalp Yatra’ \n",
    "has had a positive impact on government officers. It has made them more \n",
    "enthusiastic about their work, especially when they witness the tangible \n",
    "benefits reaching the people. Officers now feel satisfied with their work, \n",
    "saying, “I made a good plan, I created a file, and the intended beneficiaries \n",
    "received the benefits.” When they find that the money has reached a poor \n",
    "widow under the Jeevan Jyoti scheme and it was a great help to her during \n",
    "her crisis, they realise that they have done a good job. When a government \n",
    "officer listens to such stories, he feels very satisfied.\n",
    "There are very few who understand the power and impact of the ‘Viksit \n",
    "Bharat Sankalp Yatra’. When I hear people connected to bureaucratic \n",
    "circles talking about it, expressing their satisfaction, it resonates \n",
    "with me. I’ve heard stories where someone suddenly received 2 lakh rupees \n",
    "after the death of her husband, and a sister mentioned how the arrival of \n",
    "gas in her home transformed her lives. The most significant aspect is when \n",
    "someone says that the line between rich and poor has vanished. While the \n",
    "slogan ‘Garibi Hatao’ (Remove Poverty) is one thing, but the real change \n",
    "happens when a person says, “As soon as the gas stove came to my house, the \n",
    "distinction between poverty and affluence disappeared.\n",
    "\"\"\""
   ]
  },
  {
   "cell_type": "code",
   "execution_count": 42,
   "metadata": {},
   "outputs": [],
   "source": [
    "chat_message = [\n",
    "    SystemMessage(content=\"You are an expert with expertise in summarizing the speeches\"),\n",
    "    HumanMessage(content=f\"Please provide a short and consise summary of the following speech: \\n Text:{speech}\")\n",
    "]"
   ]
  },
  {
   "cell_type": "code",
   "execution_count": 43,
   "metadata": {},
   "outputs": [
    {
     "data": {
      "text/plain": [
       "1038"
      ]
     },
     "execution_count": 43,
     "metadata": {},
     "output_type": "execute_result"
    }
   ],
   "source": [
    "llm.get_num_tokens(speech)"
   ]
  },
  {
   "cell_type": "code",
   "execution_count": 44,
   "metadata": {},
   "outputs": [
    {
     "data": {
      "text/plain": [
       "'Here is a concise summary of the speech:\\n\\nThe speaker, a Member of Parliament, emphasizes the importance of ensuring that government schemes reach their intended beneficiaries without hassle. They express their commitment to the \"Viksit Bharat Sankalp Yatra\" (Developed India Resolution Journey) and their desire to listen to people\\'s experiences with government schemes to understand whether they have received the intended benefits. The speaker shares stories of individuals who have benefited from government schemes, such as the Ayushman card and Jeevan Jyoti scheme, and highlights the positive impact it has had on government officers, making them more enthusiastic about their work when they see tangible results. The speaker concludes that the \"Viksit Bharat Sankalp Yatra\" has the power to remove poverty and create a more equal society, where the distinction between rich and poor disappears.'"
      ]
     },
     "execution_count": 44,
     "metadata": {},
     "output_type": "execute_result"
    }
   ],
   "source": [
    "# getting the summary\n",
    "llm(chat_message).content"
   ]
  },
  {
   "cell_type": "code",
   "execution_count": 26,
   "metadata": {},
   "outputs": [
    {
     "data": {
      "text/plain": [
       "PromptTemplate(input_variables=['language', 'speech'], input_types={}, partial_variables={}, template='\\nWrithe a summary of the following speech:\\nSpeech:{speech}\\nTranslate the precise summary to {language}\\n')"
      ]
     },
     "execution_count": 26,
     "metadata": {},
     "output_type": "execute_result"
    }
   ],
   "source": [
    "# prompt template text summarization - method 2 to get summary\n",
    "from langchain.chains import LLMChain\n",
    "from langchain import PromptTemplate\n",
    "\n",
    "generic_prompt_template = \"\"\"\n",
    "Writhe a summary of the following speech:\n",
    "Speech:{speech}\n",
    "Translate the precise summary to {language}\n",
    "\"\"\"\n",
    "\n",
    "prompt = PromptTemplate(\n",
    "    input_variables=[\"speech\", \"language\"],\n",
    "    template = generic_prompt_template\n",
    ")\n",
    "prompt"
   ]
  },
  {
   "cell_type": "code",
   "execution_count": 28,
   "metadata": {},
   "outputs": [],
   "source": [
    "complete_prompt = prompt.format(speech=speech, language=\"French\")"
   ]
  },
  {
   "cell_type": "code",
   "execution_count": 29,
   "metadata": {},
   "outputs": [
    {
     "data": {
      "text/plain": [
       "1061"
      ]
     },
     "execution_count": 29,
     "metadata": {},
     "output_type": "execute_result"
    }
   ],
   "source": [
    "llm.get_num_tokens(complete_prompt)"
   ]
  },
  {
   "cell_type": "code",
   "execution_count": 32,
   "metadata": {},
   "outputs": [
    {
     "data": {
      "text/plain": [
       "'Here is a summary of the speech in English, followed by its translation in Hindi:\\n\\n**English Summary:**\\n\\nThe speaker, a Member of Parliament, is participating in the \"Viksit Bharat Sankalp Yatra\" (Developed India Resolution Journey) to ensure that government schemes reach their intended beneficiaries without any hurdles. The speaker has been checking whether people have received the benefits of government schemes and has found that many have been left out. The speaker is touring the country to listen to people\\'s experiences and to ensure that government programs are reaching everyone as planned.\\n\\n**Hindi Translation:**\\n\\nस्पीकर, एक सदस्य संसद, «विकसित भारत संकल्प यात्रा» (विकसित भारत निर्णय यात्रा) में भाग ले रहा है ताकि सरकार के योजनाएं अपने लिए निर्धारित लाभार्थियों को हासिल कर सकें बिना किसी बाधा। स्पीकर ने सरकार की योजनाओं के लिए लोगों का अनुभव जानना शुरू कर दिया है और पाया है कि कई लोगों ने लाभ नहीं उठाया है। स्पीकर देश में यात्रा कर रहा है ताकि लोगों से बात करे और सरकार के कार्यक्रमों को प्लान के मुताबिक हर किसी के लिए पहुंचाने के लिए सुनिश्चित करे।'"
      ]
     },
     "execution_count": 32,
     "metadata": {},
     "output_type": "execute_result"
    }
   ],
   "source": [
    "llm_chain = LLMChain(llm=llm, prompt=prompt)\n",
    "summary = llm_chain.run({\"speech\":speech, \"language\":\"hindi\"})\n",
    "summary"
   ]
  },
  {
   "cell_type": "code",
   "execution_count": null,
   "metadata": {},
   "outputs": [],
   "source": [
    "## stuffdocumentchain text summarization  (for larger documents summarization)"
   ]
  }
 ],
 "metadata": {
  "kernelspec": {
   "display_name": "venv",
   "language": "python",
   "name": "python3"
  },
  "language_info": {
   "codemirror_mode": {
    "name": "ipython",
    "version": 3
   },
   "file_extension": ".py",
   "mimetype": "text/x-python",
   "name": "python",
   "nbconvert_exporter": "python",
   "pygments_lexer": "ipython3",
   "version": "3.12.0"
  }
 },
 "nbformat": 4,
 "nbformat_minor": 2
}
