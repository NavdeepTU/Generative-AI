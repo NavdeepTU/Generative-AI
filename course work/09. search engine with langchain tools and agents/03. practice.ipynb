{
 "cells": [
  {
   "cell_type": "code",
   "execution_count": 4,
   "metadata": {},
   "outputs": [
    {
     "name": "stdout",
     "output_type": "stream",
     "text": [
      "\n",
      "\n",
      "\u001b[1m> Entering new AgentExecutor chain...\u001b[0m\n",
      "\u001b[32;1m\u001b[1;3m\n",
      "Invoking: `wikipedia` with `{'query': 'Agent (AI)'}`\n",
      "\n",
      "\n",
      "\u001b[0m\u001b[36;1m\u001b[1;3mPage: Intelligent agent\n",
      "Summary: In artificial intelligence, an intelligent agent is an entity that perceives its environment, takes actions autonomously to achieve goals, and may improve its performance through machine learning or by acquiring knowl\u001b[0m\u001b[32;1m\u001b[1;3m\n",
      "Invoking: `arxiv` with `{'query': 'intelligent agents'}`\n",
      "\n",
      "\n",
      "\u001b[0m\u001b[33;1m\u001b[1;3mPublished: 2025-01-08\n",
      "Title: Agent TCP/IP: An Agent-to-Agent Transaction System\n",
      "Authors: Andrea Muttoni, Jason Zhao\n",
      "Summary: Autonomous agents represent an inevitable evolution of the internet. Current\n",
      "agent frameworks do not embed a standard protoco\u001b[0m\u001b[32;1m\u001b[1;3m\n",
      "Invoking: `wikipedia` with `{'query': 'Agent framework'}`\n",
      "\n",
      "\n",
      "\u001b[0m\u001b[36;1m\u001b[1;3mPage: Java Agent Development Framework\n",
      "Summary: Java Agent Development Framework, or JADE, is a software framework for the development of software agents, implemented in Java. JADE system supports coordination between several agents FIPA and provides\u001b[0m\u001b[32;1m\u001b[1;3mBased on the information gathered, I can provide a response to your original question about agents in generative AI.\n",
      "\n",
      "Intelligent agents, as described in the Wikipedia article, are entities that perceive their environment, take actions autonomously to achieve goals, and may improve their performance through machine learning or by acquiring knowledge. They are often used in artificial intelligence, robotics, and other fields.\n",
      "\n",
      "The article about Agent TCP/IP highlights the importance of autonomous agents in the evolution of the internet and the need for standard protocols for agent-to-agent transactions.\n",
      "\n",
      "The Java Agent Development Framework (JADE) is a software framework for developing software agents in Java, providing support for coordination between multiple agents and following the FIPA (Foundation for Intelligent Physical Agents) standard.\n",
      "\n",
      "Considering this information, I can provide a summary of the role of agents in generative AI:\n",
      "\n",
      "Agents play a crucial role in generative AI by enabling autonomous decision-making, problem-solving, and learning. They can perceive their environment, take actions to achieve goals, and adapt to new situations through machine learning or knowledge acquisition. Agents can be used in various applications, such as natural language processing, computer vision, and robotics, to name a few. The JADE framework and other agent frameworks provide a foundation for developing software agents that can interact with each other and with humans in a standardized way.\u001b[0m\n",
      "\n",
      "\u001b[1m> Finished chain.\u001b[0m\n"
     ]
    },
    {
     "data": {
      "text/plain": [
       "{'input': 'Tell me about agents in generativeAI',\n",
       " 'output': 'Based on the information gathered, I can provide a response to your original question about agents in generative AI.\\n\\nIntelligent agents, as described in the Wikipedia article, are entities that perceive their environment, take actions autonomously to achieve goals, and may improve their performance through machine learning or by acquiring knowledge. They are often used in artificial intelligence, robotics, and other fields.\\n\\nThe article about Agent TCP/IP highlights the importance of autonomous agents in the evolution of the internet and the need for standard protocols for agent-to-agent transactions.\\n\\nThe Java Agent Development Framework (JADE) is a software framework for developing software agents in Java, providing support for coordination between multiple agents and following the FIPA (Foundation for Intelligent Physical Agents) standard.\\n\\nConsidering this information, I can provide a summary of the role of agents in generative AI:\\n\\nAgents play a crucial role in generative AI by enabling autonomous decision-making, problem-solving, and learning. They can perceive their environment, take actions to achieve goals, and adapt to new situations through machine learning or knowledge acquisition. Agents can be used in various applications, such as natural language processing, computer vision, and robotics, to name a few. The JADE framework and other agent frameworks provide a foundation for developing software agents that can interact with each other and with humans in a standardized way.'}"
      ]
     },
     "execution_count": 4,
     "metadata": {},
     "output_type": "execute_result"
    }
   ],
   "source": [
    "from dotenv import load_dotenv\n",
    "from langchain import hub\n",
    "from langchain_groq import ChatGroq\n",
    "from langchain_community.tools import ArxivQueryRun, WikipediaQueryRun\n",
    "from langchain_community.utilities import WikipediaAPIWrapper, ArxivAPIWrapper\n",
    "from langchain.agents import create_openai_tools_agent, AgentExecutor\n",
    "import os\n",
    "load_dotenv()\n",
    "\n",
    "# using the inbuilt tools of langchain - arxiv and wikipedia\n",
    "api_wrapper_arxiv = ArxivAPIWrapper(top_k_results=1, doc_content_chars_max=250)\n",
    "arxiv_tool = ArxivQueryRun(api_wrapper=api_wrapper_arxiv)\n",
    "\n",
    "api_wrapper_wiki = WikipediaAPIWrapper(top_k_results=1, doc_content_chars_max=250)\n",
    "wiki_tool = WikipediaQueryRun(api_wrapper=api_wrapper_wiki)\n",
    "\n",
    "tool_box = [wiki_tool, arxiv_tool]\n",
    "\n",
    "# run these tools with agents and llm models\n",
    "groq_api_key = os.getenv(\"GROQ_API_KEY\")\n",
    "llm = ChatGroq(groq_api_key=groq_api_key, model=\"Llama3-8b-8192\")\n",
    "\n",
    "# prompt template\n",
    "prompt = hub.pull(\"hwchase17/openai-functions-agent\")\n",
    "\n",
    "# agent\n",
    "agent = create_openai_tools_agent(llm, tool_box, prompt)\n",
    "\n",
    "# agent executor\n",
    "agent_executor = AgentExecutor(agent=agent, tools=tool_box, verbose=True)\n",
    "user_query = \"Tell me about agents in generativeAI\"\n",
    "agent_executor.invoke({\"input\":user_query})"
   ]
  },
  {
   "cell_type": "code",
   "execution_count": 5,
   "metadata": {},
   "outputs": [
    {
     "name": "stdout",
     "output_type": "stream",
     "text": [
      "\n",
      "\n",
      "\u001b[1m> Entering new AgentExecutor chain...\u001b[0m\n",
      "\u001b[32;1m\u001b[1;3m\n",
      "Invoking: `arxiv` with `{'query': '1706.03762'}`\n",
      "\n",
      "\n",
      "\u001b[0m\u001b[33;1m\u001b[1;3mPublished: 2023-08-02\n",
      "Title: Attention Is All You Need\n",
      "Authors: Ashish Vaswani, Noam Shazeer, Niki Parmar, Jakob Uszkoreit, Llion Jones, Aidan N. Gomez, Lukasz Kaiser, Illia Polosukhin\n",
      "Summary: The dominant sequence transduction models are based on c\u001b[0m\u001b[32;1m\u001b[1;3m\n",
      "Invoking: `wikipedia` with `{'query': 'Attention Is All You Need'}`\n",
      "\n",
      "\n",
      "\u001b[0m\u001b[36;1m\u001b[1;3mPage: Attention Is All You Need\n",
      "Summary: \"Attention Is All You Need\" is a 2017 landmark research paper in machine learning authored by eight scientists working at Google. The paper introduced a new deep learning architecture known as the transformer,\u001b[0m\u001b[32;1m\u001b[1;3mThe paper \"Attention Is All You Need\" introduced the Transformer model, which revolutionized the field of natural language processing. The Transformer model relies solely on self-attention mechanisms, eliminating the need for traditional recurrent and convolutional neural networks. This innovation has had a significant impact on the development of many NLP applications, including machine translation, text classification, and language modeling.\u001b[0m\n",
      "\n",
      "\u001b[1m> Finished chain.\u001b[0m\n"
     ]
    },
    {
     "data": {
      "text/plain": [
       "{'input': \"What's the paper 1706.03762 about ?\",\n",
       " 'output': 'The paper \"Attention Is All You Need\" introduced the Transformer model, which revolutionized the field of natural language processing. The Transformer model relies solely on self-attention mechanisms, eliminating the need for traditional recurrent and convolutional neural networks. This innovation has had a significant impact on the development of many NLP applications, including machine translation, text classification, and language modeling.'}"
      ]
     },
     "execution_count": 5,
     "metadata": {},
     "output_type": "execute_result"
    }
   ],
   "source": [
    "agent_executor.invoke({\"input\":\"What's the paper 1706.03762 about ?\"})"
   ]
  },
  {
   "cell_type": "code",
   "execution_count": null,
   "metadata": {},
   "outputs": [],
   "source": []
  }
 ],
 "metadata": {
  "kernelspec": {
   "display_name": "venv",
   "language": "python",
   "name": "python3"
  },
  "language_info": {
   "codemirror_mode": {
    "name": "ipython",
    "version": 3
   },
   "file_extension": ".py",
   "mimetype": "text/x-python",
   "name": "python",
   "nbconvert_exporter": "python",
   "pygments_lexer": "ipython3",
   "version": "3.12.0"
  }
 },
 "nbformat": 4,
 "nbformat_minor": 2
}
