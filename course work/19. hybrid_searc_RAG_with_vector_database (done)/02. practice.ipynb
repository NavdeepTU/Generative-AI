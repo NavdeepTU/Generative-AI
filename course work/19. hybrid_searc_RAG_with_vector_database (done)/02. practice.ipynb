{
 "cells": [
  {
   "cell_type": "code",
   "execution_count": 5,
   "metadata": {},
   "outputs": [
    {
     "name": "stderr",
     "output_type": "stream",
     "text": [
      "100%|██████████| 5/5 [00:00<00:00, 660.42it/s]\n",
      "100%|██████████| 1/1 [00:04<00:00,  4.28s/it]\n"
     ]
    }
   ],
   "source": [
    "from pinecone_text.sparse import BM25Encoder\n",
    "from langchain_huggingface import HuggingFaceEmbeddings\n",
    "from pinecone import Pinecone, ServerlessSpec\n",
    "from langchain_community.retrievers import PineconeHybridSearchRetriever\n",
    "import os\n",
    "from dotenv import load_dotenv\n",
    "load_dotenv()\n",
    "\n",
    "text = [\n",
    "    \"Narendra Modi is the prime minister of India\",\n",
    "    \"Donald Trump is the president of North America\",\n",
    "    \"Gaston Browne is the prime minister of Antigua\",\n",
    "    \"Keith Rowley is the prime minister of trinidad and tobago\",\n",
    "    \"Justin Trudeau is the prime mister of Canada\"\n",
    "]\n",
    "\n",
    "# sparse vector embeddings\n",
    "bm25_encoder = BM25Encoder().default() # tfidf encoder for sparse representation\n",
    "bm25_encoder.fit(text) # applying tfidf values on the text\n",
    "\n",
    "# dense vector embeddings\n",
    "embeddings = HuggingFaceEmbeddings(model_name=\"all-MiniLM-L6-v2\")\n",
    "\n",
    "# create pinecone vectorDB index\n",
    "pinecone_api_key = os.getenv(\"PINECONE_API_KEY\")\n",
    "pc = Pinecone(api_key=pinecone_api_key) # initialize pinecone client\n",
    "index_name = \"pm-of-countries\"\n",
    "if index_name not in pc.list_indexes().names():\n",
    "    pc.create_index(\n",
    "        name=index_name,\n",
    "        dimension=384, # dimension of dense vector\n",
    "        metric=\"dotproduct\", # dot product supported for only sparse values\n",
    "        spec=ServerlessSpec(cloud=\"aws\", region=\"us-east-1\")\n",
    "    )\n",
    "index = pc.Index(index_name)\n",
    "retriever = PineconeHybridSearchRetriever(embeddings=embeddings, sparse_encoder=bm25_encoder, index=index)\n",
    "retriever.add_texts(text)"
   ]
  },
  {
   "cell_type": "code",
   "execution_count": 9,
   "metadata": {},
   "outputs": [
    {
     "data": {
      "text/plain": [
       "[Document(metadata={'score': 0.60089016}, page_content='Narendra Modi is the prime minister of India'),\n",
       " Document(metadata={'score': 0.298049808}, page_content='Keith Rowley is the prime minister of trinidad and tobago'),\n",
       " Document(metadata={'score': 0.287390113}, page_content='Gaston Browne is the prime minister of Antigua'),\n",
       " Document(metadata={'score': 0.287325621}, page_content='Justin Trudeau is the prime mister of Canada')]"
      ]
     },
     "execution_count": 9,
     "metadata": {},
     "output_type": "execute_result"
    }
   ],
   "source": [
    "retriever.invoke(\"Who is the prime minister of India?\")"
   ]
  },
  {
   "cell_type": "code",
   "execution_count": null,
   "metadata": {},
   "outputs": [],
   "source": []
  }
 ],
 "metadata": {
  "kernelspec": {
   "display_name": "venv",
   "language": "python",
   "name": "python3"
  },
  "language_info": {
   "codemirror_mode": {
    "name": "ipython",
    "version": 3
   },
   "file_extension": ".py",
   "mimetype": "text/x-python",
   "name": "python",
   "nbconvert_exporter": "python",
   "pygments_lexer": "ipython3",
   "version": "3.12.0"
  }
 },
 "nbformat": 4,
 "nbformat_minor": 2
}
