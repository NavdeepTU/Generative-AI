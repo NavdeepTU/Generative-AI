{
 "cells": [
  {
   "cell_type": "code",
   "execution_count": 10,
   "metadata": {},
   "outputs": [
    {
     "name": "stdout",
     "output_type": "stream",
     "text": [
      "==================================================\n",
      "Using messages\n",
      "नमस्ते, आप कैसे हैं? (Namaste, aap kaise hain?) \n",
      "\n",
      "==================================================\n",
      "Using prompt template\n",
      "The translation of \"Hello, how are you?\" in Hindi is:\n",
      "\n",
      "**नमस्ते, आप कैसे हैं?** (Namaste, aap kaise hain?) \n",
      "\n",
      "\n",
      "Here's a breakdown:\n",
      "\n",
      "* **नमस्ते (Namaste)**: Hello\n",
      "* **आप (aap)**: You (Formal)\n",
      "* **कैसे (kaise)**: How\n",
      "* **हैं (hain)**: Are \n",
      "\n",
      "\n",
      "Let me know if you have any other phrases you'd like translated!\n",
      "\n",
      "==================================================\n"
     ]
    }
   ],
   "source": [
    "from langchain_core.messages import HumanMessage, SystemMessage\n",
    "from langchain_groq import ChatGroq\n",
    "from langchain_core.prompts import ChatPromptTemplate\n",
    "from langchain_core.output_parsers import StrOutputParser\n",
    "import openai\n",
    "import os\n",
    "from dotenv import load_dotenv\n",
    "load_dotenv()\n",
    "\n",
    "openai.api_key = os.getenv(\"OPENAI_API_KEY\")\n",
    "groq_api_key = os.getenv(\"GROQ_API_KEY\")\n",
    "\n",
    "model = ChatGroq(model=\"Gemma2-9b-It\", groq_api_key=groq_api_key)\n",
    "\n",
    "messages = [\n",
    "    SystemMessage(content=\"Translate the following from english to Hindi.\"),\n",
    "    HumanMessage(content=\"Hello, how are you?\")\n",
    "]\n",
    "\n",
    "print(\"=\"*50)\n",
    "print(\"Using messages\")\n",
    "parser = StrOutputParser()\n",
    "chain = model | parser\n",
    "result = chain.invoke(messages)\n",
    "print(result)\n",
    "print(\"=\"*50)\n",
    "\n",
    "# using chat prompt template\n",
    "generic_template = \"Translate the following into {language}:\"\n",
    "prompt = ChatPromptTemplate.from_messages(\n",
    "    [\n",
    "        (\"system\", generic_template),\n",
    "        (\"user\", \"{text}\")\n",
    "    ]\n",
    ")\n",
    "\n",
    "print(\"Using prompt template\")\n",
    "chain = prompt | model | parser\n",
    "result = chain.invoke({\"language\":\"Hindi\", \"text\":\"Hello, how are you?\"})\n",
    "print(result)\n",
    "print(\"=\"*50)"
   ]
  },
  {
   "cell_type": "code",
   "execution_count": null,
   "metadata": {},
   "outputs": [],
   "source": []
  }
 ],
 "metadata": {
  "kernelspec": {
   "display_name": "venv",
   "language": "python",
   "name": "python3"
  },
  "language_info": {
   "codemirror_mode": {
    "name": "ipython",
    "version": 3
   },
   "file_extension": ".py",
   "mimetype": "text/x-python",
   "name": "python",
   "nbconvert_exporter": "python",
   "pygments_lexer": "ipython3",
   "version": "3.12.0"
  }
 },
 "nbformat": 4,
 "nbformat_minor": 2
}
