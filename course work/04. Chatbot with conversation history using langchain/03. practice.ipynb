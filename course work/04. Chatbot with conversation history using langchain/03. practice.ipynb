{
 "cells": [
  {
   "cell_type": "code",
   "execution_count": 3,
   "metadata": {},
   "outputs": [
    {
     "name": "stdout",
     "output_type": "stream",
     "text": [
      "## बोलिए, मैं आपकी मदद करूँगा! \n",
      "\n",
      "मुझे कोई भी प्रश्न पूछिए, मैं उसका उत्तर देने की पूरी कोशिश करूँगा। \n",
      "\n",
      "**\"कार्रवाई\" शब्द वाले पाँच वाक्य:**\n",
      "\n",
      "1. वह अपनी **कार्रवाई** के लिए तैयार था।\n",
      "2. बच्चों ने खेल के लिए उत्साह से **कार्रवाई** करना शुरू कर दिया।\n",
      "3. अभिनेता ने अपने **कार्रवाई** दृश्य को पूरी निष्ठा से निभाया।\n",
      "4. सरकार ने रोजगार सृजन के लिए त्वरित **कार्रवाई** की घोषणा की।\n",
      "5. समय पर **कार्रवाई** करके हम समस्या से बच सकते हैं। \n",
      "\n",
      "\n",
      "\n",
      "وہ اکشن کے ساتھ پکڑی گئی۔ \n",
      "\n",
      "\n",
      "\n"
     ]
    }
   ],
   "source": [
    "from langchain_core.messages import HumanMessage, SystemMessage\n",
    "from langchain_core.prompts import ChatPromptTemplate, MessagesPlaceholder\n",
    "from langchain_groq import ChatGroq\n",
    "from langchain_core.chat_history import BaseChatMessageHistory\n",
    "from langchain_community.chat_message_histories import ChatMessageHistory\n",
    "from langchain_core.runnables.history import RunnableWithMessageHistory\n",
    "import os\n",
    "from dotenv import load_dotenv\n",
    "load_dotenv()\n",
    "\n",
    "# model\n",
    "groq_api_key = os.getenv(\"GROQ_API_KEY\")\n",
    "model = ChatGroq(model=\"Gemma2-9b-It\", groq_api_key=groq_api_key)\n",
    "\n",
    "# prompt\n",
    "system_template = \"You are a helpful assistant. Answer all the questions in best of your ability in {language}.\"\n",
    "\n",
    "prompt = ChatPromptTemplate.from_messages(\n",
    "    [\n",
    "        (\"system\", system_template),\n",
    "        MessagesPlaceholder(variable_name=\"message\")\n",
    "    ]\n",
    ")\n",
    "\n",
    "# function to save chat history based on session id\n",
    "store = {}\n",
    "\n",
    "def get_session_history(session_id:str)->BaseChatMessageHistory:\n",
    "    if session_id not in store:\n",
    "        store[session_id] = ChatMessageHistory()\n",
    "    return store[session_id]\n",
    "\n",
    "chain = prompt | model\n",
    "with_message_history = RunnableWithMessageHistory(chain, get_session_history, input_messages_key=\"message\")\n",
    "config = {\"configurable\":{\"session_id\":\"chat_1\"}}\n",
    "response = with_message_history.invoke(\n",
    "    {\n",
    "        \"message\":[HumanMessage(content=\"Generate 5 sentences containing word action\")],\n",
    "        \"language\":\"Hindi\"\n",
    "    },\n",
    "    config=config\n",
    ")\n",
    "\n",
    "print(response.content)\n",
    "\n",
    "response = with_message_history.invoke(\n",
    "    {\n",
    "        \"message\":[HumanMessage(content=\"Generate 1 more sentence\")],\n",
    "        \"language\":\"Punjabi\"\n",
    "    },\n",
    "    config=config\n",
    ")\n",
    "print(response.content)"
   ]
  },
  {
   "cell_type": "code",
   "execution_count": null,
   "metadata": {},
   "outputs": [],
   "source": []
  }
 ],
 "metadata": {
  "kernelspec": {
   "display_name": "Python 3",
   "language": "python",
   "name": "python3"
  },
  "language_info": {
   "codemirror_mode": {
    "name": "ipython",
    "version": 3
   },
   "file_extension": ".py",
   "mimetype": "text/x-python",
   "name": "python",
   "nbconvert_exporter": "python",
   "pygments_lexer": "ipython3",
   "version": "3.12.0"
  }
 },
 "nbformat": 4,
 "nbformat_minor": 2
}
