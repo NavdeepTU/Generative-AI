{
 "cells": [
  {
   "cell_type": "code",
   "execution_count": 7,
   "metadata": {},
   "outputs": [
    {
     "name": "stdout",
     "output_type": "stream",
     "text": [
      "============================================================\n",
      "What is the main purpose of the stock market according to the provided context?\n",
      "\n",
      "The main purpose of the stock market is to facilitate transactions between buyers and sellers of shares.\n",
      "============================================================\n",
      "Based on the provided context, what does it mean to be \"bullish\" on a stock price?\n",
      "\n",
      "Being \"bullish\" on a stock price means that you believe the stock prices are likely to go up. In a broader perspective, if the stock market index is going up during a particular time period, it is referred to as a bull market.\n",
      "============================================================\n",
      "What is the face value (FV) of a share, and how is it used in corporate actions?\n",
      "\n",
      "The face value (FV) or par value of a share is the fixed denomination of a share. It is important for corporate actions such as dividends and stock splits. For example, dividends are often announced with the face value in perspective. If the face value of a stock is Rs. 5 and an annual dividend of Rs. 63 is declared, the dividend yield would be 1260% (63 divided by 5). In stock splits, the face value can change, resulting in a change in the number of shares an investor holds.\n",
      "============================================================\n"
     ]
    }
   ],
   "source": [
    "# simple genai app using langchain\n",
    "from langchain_community.document_loaders import PyMuPDFLoader\n",
    "from langchain_text_splitters import RecursiveCharacterTextSplitter\n",
    "from langchain_openai.embeddings import OpenAIEmbeddings\n",
    "from langchain.vectorstores import FAISS\n",
    "from langchain_openai import ChatOpenAI\n",
    "from langchain_core.prompts import ChatPromptTemplate\n",
    "from langchain.chains.combine_documents import create_stuff_documents_chain\n",
    "from langchain.chains import create_retrieval_chain\n",
    "import os\n",
    "from dotenv import load_dotenv\n",
    "load_dotenv()\n",
    "\n",
    "os.environ[\"OPENAI_API_KEY\"] = os.getenv(\"OPENAI_API_KEY\")\n",
    "# langchain tracking\n",
    "os.environ[\"LANGCHAIN_API_KEY\"] = os.getenv(\"LANGCHAIN_API_KEY\")\n",
    "os.environ[\"LANGCHAIN_TRACING_V2\"] = \"true\"\n",
    "os.environ[\"LANGCHAIN_PROJECT\"] = os.getenv(\"LANGCHAIN_PROJECT\")\n",
    "\n",
    "loader = PyMuPDFLoader(file_path=\"Introduction_to_Stock_Markets.pdf\")\n",
    "document = loader.load()\n",
    "doc_splitter = RecursiveCharacterTextSplitter(chunk_size=1000, chunk_overlap=100)\n",
    "docs = doc_splitter.split_documents(document)\n",
    "embeddings = OpenAIEmbeddings(model=\"text-embedding-3-large\")\n",
    "vectorstore_db = FAISS.from_documents(docs, embeddings)\n",
    "retrievar = vectorstore_db.as_retriever()\n",
    "\n",
    "llm = ChatOpenAI(model=\"gpt-4o\")\n",
    "prompt = ChatPromptTemplate.from_template(\n",
    "    \"\"\"\n",
    "        Answer the question based only on the provided context:\n",
    "        <context>\n",
    "        {context}\n",
    "        </context>\n",
    "    \"\"\"\n",
    ")\n",
    "\n",
    "document_chain = create_stuff_documents_chain(llm, prompt)\n",
    "retrievar_chain = create_retrieval_chain(retrievar, document_chain)\n",
    "print(\"=\"*60)\n",
    "response1 = retrievar_chain.invoke({\"input\":\"What is stock market?\"})\n",
    "print(response1['answer'])\n",
    "print(\"=\"*60)\n",
    "response2 = retrievar_chain.invoke({\"input\":\"What is Bull Market?\"})\n",
    "print(response2['answer'])\n",
    "print(\"=\"*60)\n",
    "response3 = retrievar_chain.invoke({\"input\":\"What is Face Value of a stock?\"})\n",
    "print(response3['answer'])\n",
    "print(\"=\"*60)"
   ]
  },
  {
   "cell_type": "code",
   "execution_count": null,
   "metadata": {},
   "outputs": [],
   "source": []
  }
 ],
 "metadata": {
  "kernelspec": {
   "display_name": "Python 3",
   "language": "python",
   "name": "python3"
  },
  "language_info": {
   "codemirror_mode": {
    "name": "ipython",
    "version": 3
   },
   "file_extension": ".py",
   "mimetype": "text/x-python",
   "name": "python",
   "nbconvert_exporter": "python",
   "pygments_lexer": "ipython3",
   "version": "3.12.0"
  }
 },
 "nbformat": 4,
 "nbformat_minor": 2
}
