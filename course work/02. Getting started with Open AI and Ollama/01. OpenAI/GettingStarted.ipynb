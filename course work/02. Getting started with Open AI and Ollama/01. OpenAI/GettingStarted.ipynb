{
 "cells": [
  {
   "cell_type": "code",
   "execution_count": 1,
   "metadata": {},
   "outputs": [],
   "source": [
    "import os\n",
    "from dotenv import load_dotenv\n",
    "load_dotenv()\n",
    "\n",
    "os.environ[\"OPENAI_API_KEY\"] = os.getenv(\"OPENAI_API_KEY\")\n",
    "# langchain tracking\n",
    "os.environ[\"LANGCHAIN_API_KEY\"] = os.getenv(\"LANGCHAIN_API_KEY\")\n",
    "os.environ[\"LANGCHAIN_TRACING_V2\"] = \"true\"\n",
    "os.environ[\"LANGCHAIN_PROJECT\"] = os.getenv(\"LANGCHAIN_PROJECT\")"
   ]
  },
  {
   "cell_type": "code",
   "execution_count": 3,
   "metadata": {},
   "outputs": [
    {
     "name": "stdout",
     "output_type": "stream",
     "text": [
      "client=<openai.resources.chat.completions.Completions object at 0x10d00cb20> async_client=<openai.resources.chat.completions.AsyncCompletions object at 0x10d00eb30> root_client=<openai.OpenAI object at 0x10cbffca0> root_async_client=<openai.AsyncOpenAI object at 0x10d00cb80> model_name='gpt-4o' model_kwargs={} openai_api_key=SecretStr('**********')\n"
     ]
    }
   ],
   "source": [
    "from langchain_openai import ChatOpenAI\n",
    "\n",
    "llm = ChatOpenAI(model=\"gpt-4o\")\n",
    "print(llm)"
   ]
  },
  {
   "cell_type": "code",
   "execution_count": 5,
   "metadata": {},
   "outputs": [
    {
     "name": "stdout",
     "output_type": "stream",
     "text": [
      "content='Generative AI refers to a subset of artificial intelligence that focuses on creating new content, data, or information by learning patterns from existing data. It uses models, often based on neural networks, to generate text, images, music, and other media that mimic human-created content. One of the most well-known technologies in this field is the Generative Adversarial Network (GAN), which consists of two neural networks, a generator and a discriminator, working against each other to produce increasingly realistic outputs.\\n\\nGenerative AI has a wide range of applications, including:\\n\\n1. **Text Generation**: Tools like GPT (Generative Pre-trained Transformer) can produce human-like text and have applications in writing, customer service, and content creation.\\n\\n2. **Image and Video Creation**: AI can generate realistic images or even deepfake videos, which have uses in entertainment, gaming, and art.\\n\\n3. **Music and Audio**: AI can compose music or generate sound effects, useful in media production and entertainment.\\n\\n4. **Design and Art**: Artists and designers use generative AI to explore new creative possibilities, creating unique artworks and designs.\\n\\n5. **Data Augmentation**: In machine learning, generative models can create synthetic data to train other AI systems, improving their robustness and performance.\\n\\nGenerative AI is a powerful tool that holds great potential but also raises ethical concerns, particularly in areas like copyright infringement, misinformation, and the creation of fake content.' additional_kwargs={'refusal': None} response_metadata={'token_usage': {'completion_tokens': 292, 'prompt_tokens': 13, 'total_tokens': 305, 'completion_tokens_details': {'audio_tokens': None, 'reasoning_tokens': 0}, 'prompt_tokens_details': {'audio_tokens': None, 'cached_tokens': 0}}, 'model_name': 'gpt-4o-2024-08-06', 'system_fingerprint': 'fp_45c6de4934', 'finish_reason': 'stop', 'logprobs': None} id='run-bbdc31f2-172a-4024-851a-ec5ab3defce8-0' usage_metadata={'input_tokens': 13, 'output_tokens': 292, 'total_tokens': 305, 'input_token_details': {'cache_read': 0}, 'output_token_details': {'reasoning': 0}}\n"
     ]
    }
   ],
   "source": [
    "# input and get responce from llm\n",
    "\n",
    "result = llm.invoke(\"What is generative AI?\")\n",
    "print(result)"
   ]
  },
  {
   "cell_type": "code",
   "execution_count": 7,
   "metadata": {},
   "outputs": [
    {
     "data": {
      "text/plain": [
       "'Generative AI refers to a subset of artificial intelligence that focuses on creating new content, data, or information by learning patterns from existing data. It uses models, often based on neural networks, to generate text, images, music, and other media that mimic human-created content. One of the most well-known technologies in this field is the Generative Adversarial Network (GAN), which consists of two neural networks, a generator and a discriminator, working against each other to produce increasingly realistic outputs.\\n\\nGenerative AI has a wide range of applications, including:\\n\\n1. **Text Generation**: Tools like GPT (Generative Pre-trained Transformer) can produce human-like text and have applications in writing, customer service, and content creation.\\n\\n2. **Image and Video Creation**: AI can generate realistic images or even deepfake videos, which have uses in entertainment, gaming, and art.\\n\\n3. **Music and Audio**: AI can compose music or generate sound effects, useful in media production and entertainment.\\n\\n4. **Design and Art**: Artists and designers use generative AI to explore new creative possibilities, creating unique artworks and designs.\\n\\n5. **Data Augmentation**: In machine learning, generative models can create synthetic data to train other AI systems, improving their robustness and performance.\\n\\nGenerative AI is a powerful tool that holds great potential but also raises ethical concerns, particularly in areas like copyright infringement, misinformation, and the creation of fake content.'"
      ]
     },
     "execution_count": 7,
     "metadata": {},
     "output_type": "execute_result"
    }
   ],
   "source": [
    "result.content"
   ]
  },
  {
   "cell_type": "code",
   "execution_count": 8,
   "metadata": {},
   "outputs": [
    {
     "data": {
      "text/plain": [
       "ChatPromptTemplate(input_variables=['input'], input_types={}, partial_variables={}, messages=[SystemMessagePromptTemplate(prompt=PromptTemplate(input_variables=[], input_types={}, partial_variables={}, template='You are an expert AI engineer. Provide me an answer based on the question'), additional_kwargs={}), HumanMessagePromptTemplate(prompt=PromptTemplate(input_variables=['input'], input_types={}, partial_variables={}, template='{input}'), additional_kwargs={})])"
      ]
     },
     "execution_count": 8,
     "metadata": {},
     "output_type": "execute_result"
    }
   ],
   "source": [
    "## chat prompt template\n",
    "from langchain_core.prompts import ChatPromptTemplate\n",
    "\n",
    "prompt = ChatPromptTemplate.from_messages(\n",
    "    [\n",
    "        (\"system\", \"You are an expert AI engineer. Provide me an answer based on the question\"),\n",
    "        (\"user\", \"{input}\")\n",
    "    ]\n",
    ")\n",
    "\n",
    "prompt"
   ]
  },
  {
   "cell_type": "code",
   "execution_count": 9,
   "metadata": {},
   "outputs": [
    {
     "name": "stdout",
     "output_type": "stream",
     "text": [
      "content='Langsmith is a platform developed by LangChain, designed to help developers and teams build, evaluate, and monitor language model applications more effectively. It offers a range of tools for managing and optimizing the performance of language models in various applications. Key features of Langsmith include:\\n\\n1. **Experimentation and Tracking**: Langsmith enables users to conduct experiments with different language models, track their performance, and compare results. This is crucial for understanding which models work best for specific use cases.\\n\\n2. **Evaluation Tools**: The platform provides robust evaluation tools to assess the quality and reliability of language model outputs. This can include automated metrics as well as human-in-the-loop evaluations.\\n\\n3. **Monitoring and Debugging**: Langsmith offers monitoring capabilities to keep track of model performance over time and identify any issues or degradation in output quality. The debugging tools help developers address these issues efficiently.\\n\\n4. **Integration and Deployment**: It facilitates the integration of language models into existing systems and supports the deployment of these models in production environments, ensuring they function smoothly at scale.\\n\\n5. **Collaboration**: Designed for teams, Langsmith also supports collaboration by allowing multiple users to work together on model development and optimization projects.\\n\\nOverall, Langsmith aims to streamline the process of building and maintaining high-quality language model applications by providing comprehensive tools for experimentation, evaluation, and ongoing performance management.' additional_kwargs={'refusal': None} response_metadata={'token_usage': {'completion_tokens': 275, 'prompt_tokens': 34, 'total_tokens': 309, 'completion_tokens_details': {'audio_tokens': None, 'reasoning_tokens': 0}, 'prompt_tokens_details': {'audio_tokens': None, 'cached_tokens': 0}}, 'model_name': 'gpt-4o-2024-08-06', 'system_fingerprint': 'fp_a20a4ee344', 'finish_reason': 'stop', 'logprobs': None} id='run-ac84ff1d-18fc-44c9-a840-8d0a4d58dcf7-0' usage_metadata={'input_tokens': 34, 'output_tokens': 275, 'total_tokens': 309, 'input_token_details': {'cache_read': 0}, 'output_token_details': {'reasoning': 0}}\n"
     ]
    }
   ],
   "source": [
    "chain = prompt|llm\n",
    "\n",
    "response = chain.invoke({\"input\":\"Can you tell me about Langsmith?\"})\n",
    "print(response)"
   ]
  },
  {
   "cell_type": "code",
   "execution_count": 10,
   "metadata": {},
   "outputs": [
    {
     "data": {
      "text/plain": [
       "langchain_core.messages.ai.AIMessage"
      ]
     },
     "execution_count": 10,
     "metadata": {},
     "output_type": "execute_result"
    }
   ],
   "source": [
    "type(response)"
   ]
  },
  {
   "cell_type": "code",
   "execution_count": 11,
   "metadata": {},
   "outputs": [
    {
     "name": "stdout",
     "output_type": "stream",
     "text": [
      "Langsmith is a developer toolset designed to enhance the experience of working with language models. It provides a suite of features that enable developers to build, test, and evaluate applications powered by language models more effectively. Key functionalities typically include prompt management, debugging tools, and analytics, allowing developers to optimize model performance and improve the reliability of their language-based applications. These tools can be particularly useful in iterating and refining the interactions between users and AI systems, ensuring more accurate and contextually appropriate responses. Langsmith is part of a growing ecosystem of tools aimed at making AI development more accessible and efficient.\n"
     ]
    }
   ],
   "source": [
    "# string output parser\n",
    "from langchain_core.output_parsers import StrOutputParser\n",
    "\n",
    "output_parser = StrOutputParser()\n",
    "chain = prompt|llm|output_parser\n",
    "\n",
    "response = chain.invoke({\"input\":\"Can you tell me about Langsmith?\"})\n",
    "print(response)"
   ]
  },
  {
   "cell_type": "code",
   "execution_count": null,
   "metadata": {},
   "outputs": [],
   "source": []
  }
 ],
 "metadata": {
  "kernelspec": {
   "display_name": "Python 3",
   "language": "python",
   "name": "python3"
  },
  "language_info": {
   "codemirror_mode": {
    "name": "ipython",
    "version": 3
   },
   "file_extension": ".py",
   "mimetype": "text/x-python",
   "name": "python",
   "nbconvert_exporter": "python",
   "pygments_lexer": "ipython3",
   "version": "3.10.0"
  }
 },
 "nbformat": 4,
 "nbformat_minor": 2
}
